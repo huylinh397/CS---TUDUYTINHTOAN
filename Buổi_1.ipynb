{
  "nbformat": 4,
  "nbformat_minor": 0,
  "metadata": {
    "colab": {
      "provenance": []
    },
    "kernelspec": {
      "name": "python3",
      "display_name": "Python 3"
    },
    "language_info": {
      "name": "python"
    }
  },
  "cells": [
    {
      "cell_type": "code",
      "source": [
        "#B1\n",
        "print(\"Hello World!\")"
      ],
      "metadata": {
        "id": "eUD9_Dw8obKx"
      },
      "execution_count": null,
      "outputs": []
    },
    {
      "cell_type": "code",
      "source": [
        "#B2\n",
        "name = input()\n",
        "print('Hi, {name}')"
      ],
      "metadata": {
        "id": "72YZ43UpobyW"
      },
      "execution_count": null,
      "outputs": []
    },
    {
      "cell_type": "code",
      "execution_count": null,
      "metadata": {
        "id": "2rvsOhfaVwci"
      },
      "outputs": [],
      "source": [
        "#B3\n",
        "a = int(input())\n",
        "b = int(input())\n",
        "tong =  a + b\n",
        "hieu = a - b\n",
        "tich = a  * b\n",
        "phan_nguyen = a//b # phép chia lấy phần nguyên\n",
        "phan_du = a% b # phép chia lấy phần dư\n",
        "print(\"Tổng:\", tong)\n",
        "print(\"Hiệu:\", hieu)\n",
        "print(\"Tích:\", tich)\n",
        "print(\"Thương:\", '%.2f' % phan_nguyen)\n",
        "print(\"Phần dư:\", phan_du)\n"
      ]
    },
    {
      "cell_type": "code",
      "source": [
        "#B4\n",
        "a1, b1, c1, a2, b2, a3 = map(int, input().split())\n",
        "diem_trung_binh = ((a1 + b1 + c1) + (a2 + b2) * 2 + a3 * 3)/10\n",
        "print(f'điểm trung bình là {diem_trung_binh: .1f}')"
      ],
      "metadata": {
        "id": "NjXvXfuRmh9I"
      },
      "execution_count": null,
      "outputs": []
    },
    {
      "cell_type": "code",
      "source": [
        "#B5\n",
        "a, b = map(int, input().split())\n",
        "print('Lũy thừa ', a**b)"
      ],
      "metadata": {
        "id": "ec8H4rgSvDyI"
      },
      "execution_count": null,
      "outputs": []
    },
    {
      "cell_type": "code",
      "source": [
        "#B6\n",
        "str = 'Hello, World!'\n",
        "print(str.upper())"
      ],
      "metadata": {
        "id": "Zb3RSVK4mcOG"
      },
      "execution_count": null,
      "outputs": []
    },
    {
      "cell_type": "code",
      "source": [
        "#B7\n",
        "A = ((13**2)*3)+5\n",
        "B = 13**2*3 +5\n",
        "print(A)\n",
        "print(B)"
      ],
      "metadata": {
        "id": "MXIfwHf0mU5F"
      },
      "execution_count": null,
      "outputs": []
    },
    {
      "cell_type": "code",
      "source": [
        "#B8\n",
        "do_c = float(input())\n",
        "do_f = do_c * 1.8 + 32\n",
        "print('Nhiệt độ F là', do_f)"
      ],
      "metadata": {
        "id": "0v0bwdbkvIrL"
      },
      "execution_count": null,
      "outputs": []
    },
    {
      "cell_type": "code",
      "source": [
        "#B9\n",
        "x = float(input('Gía chiếc đồng hồ: '))\n",
        "tong_chi_phi = x + 10 + x * 0.35 + x * 0.1\n",
        "print('Tổng chi phí là:', '%.2f' % tong_chi_phi)"
      ],
      "metadata": {
        "id": "_UD8-E-jmRaI"
      },
      "execution_count": null,
      "outputs": []
    },
    {
      "cell_type": "code",
      "source": [
        "#B10\n",
        "a = list(map(str, input().split()))\n",
        "a.reverse()\n",
        "print('Hi ', a[0], ',', a[1], 'and', a[2], sep =' ')\n"
      ],
      "metadata": {
        "id": "3njTAJi5mE64"
      },
      "execution_count": null,
      "outputs": []
    },
    {
      "cell_type": "code",
      "source": [
        "#B11\n",
        "so_gio = float(input())\n",
        "so_phut = float(input())\n",
        "print('số giây', so_gio * 3600 + so_phut * 60 )"
      ],
      "metadata": {
        "id": "8hyRXy6cz9KZ"
      },
      "execution_count": null,
      "outputs": []
    },
    {
      "cell_type": "code",
      "source": [
        "#B12\n",
        "N = int(input(' Nhập vào số khối rubik: '))\n",
        "print('Số mặt của khối rubik là :', N*6)"
      ],
      "metadata": {
        "id": "30V_Iq6_mEtE"
      },
      "execution_count": null,
      "outputs": []
    },
    {
      "cell_type": "code",
      "source": [
        "#B13\n",
        "a = int(input())\n",
        "b = int(input())\n",
        "tich = a * b\n",
        "print('Chữ số hàng đơn vị vủa tích là:',tich % 10)"
      ],
      "metadata": {
        "id": "EH8tZhWnl_c2"
      },
      "execution_count": null,
      "outputs": []
    },
    {
      "cell_type": "code",
      "source": [
        "#B14\n",
        "a, b= map(int,input())\n",
        "a, b = b, a\n",
        "print(a, b)"
      ],
      "metadata": {
        "id": "bzzl8CxqFM_l"
      },
      "execution_count": null,
      "outputs": []
    },
    {
      "cell_type": "code",
      "source": [
        "#B15\n",
        "n = int(input('Nhập vào số nguyên N:'))\n",
        "print('Số sao:', 6*n*(n-1)+1)"
      ],
      "metadata": {
        "id": "FMlBWrOdl7ra"
      },
      "execution_count": null,
      "outputs": []
    },
    {
      "cell_type": "code",
      "source": [
        "#B16\n",
        "print('Spring\\nSummer\\nFall\\nWinter')"
      ],
      "metadata": {
        "id": "-OVaq29El3Nz"
      },
      "execution_count": null,
      "outputs": []
    },
    {
      "cell_type": "code",
      "source": [
        "#B17\n",
        "print(\n",
        "\"\"\"\n",
        "*\n",
        "**\n",
        "***\n",
        "\"\"\"\n",
        ")"
      ],
      "metadata": {
        "id": "GaFfaBIiFSE3"
      },
      "execution_count": null,
      "outputs": []
    },
    {
      "cell_type": "code",
      "source": [
        "#B18\n",
        "print(\"### # #   ### ###\")\n",
        "print(\" #  #  #   #   #  \")\n",
        "print(\" #  #   #  #   #  \")\n",
        "print(\" #  #  #   #   #  \")\n",
        "print(\" #  # #    #   #  \")"
      ],
      "metadata": {
        "id": "_U_zm4EllrbK"
      },
      "execution_count": null,
      "outputs": []
    },
    {
      "cell_type": "code",
      "source": [
        "#B19\n",
        "print('Monday')\n",
        "print('Tuesday')\n",
        "print('Wednesday')\n",
        "print('Thursday')\n",
        "print('Friday')\n",
        "print('Saturday')\n",
        "print('Sunday')"
      ],
      "metadata": {
        "id": "RZYHxYF8GA1l"
      },
      "execution_count": null,
      "outputs": []
    },
    {
      "cell_type": "code",
      "source": [
        "#B20\n",
        "print('January\\nFebruary\\nMarch\\nApril\\nMay\\nJune\\nJuly\\nAugust\\nSeptember\\nOctober\\nNovember\\nDecember')"
      ],
      "metadata": {
        "id": "fGtgiL5hlqqr"
      },
      "execution_count": null,
      "outputs": []
    },
    {
      "cell_type": "code",
      "source": [
        "#B21\n",
        "for i in range(10):\n",
        "    print('Hello World')"
      ],
      "metadata": {
        "id": "W9QZ8vpJXYm3"
      },
      "execution_count": null,
      "outputs": []
    }
  ]
}