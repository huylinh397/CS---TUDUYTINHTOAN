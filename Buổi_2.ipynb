{
  "nbformat": 4,
  "nbformat_minor": 0,
  "metadata": {
    "colab": {
      "provenance": []
    },
    "kernelspec": {
      "name": "python3",
      "display_name": "Python 3"
    },
    "language_info": {
      "name": "python"
    }
  },
  "cells": [
    {
      "cell_type": "code",
      "execution_count": null,
      "metadata": {
        "id": "ic5XnGU9HyDO"
      },
      "outputs": [],
      "source": [
        "#B1\n",
        "n = int(input())\n",
        "print(n*2)"
      ]
    },
    {
      "cell_type": "code",
      "source": [
        "#B2\n",
        "chieu_dai = float(input())\n",
        "chieu_rong = float(input())\n",
        "dien_tich_khu_vui_choi = chieu_rong / 2  * 3.14\n",
        "dien_tich_con_lai = chieu_dai * chieu_rong - dien_tich_khu_vui_choi\n",
        "print(dien_tich_con_lai)"
      ],
      "metadata": {
        "id": "q2b0i_uQH_X6"
      },
      "execution_count": null,
      "outputs": []
    },
    {
      "cell_type": "code",
      "source": [
        "#B3\n",
        "c = input()\n",
        "unicode = ord(c)\n",
        "if unicode == 67:\n",
        "    print(c.lower())\n",
        "else:\n",
        "    print(c. upper())"
      ],
      "metadata": {
        "id": "ycmZEmyFIB3B"
      },
      "execution_count": null,
      "outputs": []
    },
    {
      "cell_type": "code",
      "source": [
        "#B4\n",
        "# uncode của a là 97, unicode của z là 122\n",
        "# uncode của A là 65, unicode của Z là 90\n",
        "n = input('Nhập vào kí tự ')\n",
        "unicode = int(ord(n))\n",
        "if ( unicode >= 97 and  unicode <= 122 ) or ( unicode >= 65 and unicode <= 90 ):\n",
        "    print(\"{\"+n+\"} là kí tự alphabet\")"
      ],
      "metadata": {
        "id": "YREZoaNuIFEx"
      },
      "execution_count": null,
      "outputs": []
    },
    {
      "cell_type": "code",
      "source": [
        "#B5\n",
        "chu_cai = input()\n",
        "if chu_cai == 'A':\n",
        "    print('c')\n",
        "else:\n",
        "    chu_cai = chu_cai.lower()\n",
        "    unicode = ord(chu_cai) +1\n",
        "    print( chr(unicode))"
      ],
      "metadata": {
        "id": "jfvzLcS5II9r"
      },
      "execution_count": null,
      "outputs": []
    },
    {
      "cell_type": "code",
      "source": [
        "#B6\n",
        "from math import *\n",
        "a, b, c = map(float,input('Nhập vào các cạnh của tam giác'). split())\n",
        "if ( a + b > c) and ( a + c > b) and (b + c > a):\n",
        "    p = (a +b + c)/ 2\n",
        "    dien_tich = sqrt(p*(p-a)*(p-b)*(p-c))\n",
        "    print(f'Diện tích tam giác là:{dien_tich:0.3f}')"
      ],
      "metadata": {
        "id": "CYLo-gd9IUXq"
      },
      "execution_count": null,
      "outputs": []
    },
    {
      "cell_type": "code",
      "source": [
        "#B7\n",
        "str = input()\n",
        "print( str[4], str[8])"
      ],
      "metadata": {
        "id": "m_4ld1DEIXVD"
      },
      "execution_count": null,
      "outputs": []
    },
    {
      "cell_type": "code",
      "source": [
        "#B8\n",
        "ho_va_ten = input('Tên chủ hộ:')\n",
        "chi_so_thang_truoc = int(input('Nhập vào chỉ số tháng trước'))\n",
        "chi_so_thang_sau = int(input('Nhập vào chỉ số tháng sau'))\n",
        "so_chi_dien = chi_so_thang_sau - chi_so_thang_truoc\n",
        "def tinh_tien_dien(so_chi_dien):\n",
        "    if so_chi_dien <= 50:\n",
        "        tong = so_chi_dien * 1984\n",
        "    elif so_chi_dien <= 101:\n",
        "        tong = 50 * 1984 + (so_chi_dien -50) *2050\n",
        "    elif so_chi_dien <= 201:\n",
        "        tong = 50 * 1984 + 50 *2050 +(so_chi_dien -100) *2380\n",
        "    elif so_chi_dien <= 301:\n",
        "        tong = 50 * 1984 + 50 *2050 +100 * 2380 + (so_chi_dien - 200) *2998\n",
        "    elif so_chi_dien >= 401:\n",
        "        tong = 50 * 1984 + 50 *2050 +100 * 2380 + 100 * 2998 + (so_chi_dien - 300) *3350\n",
        "    else:\n",
        "        tong = 50 * 1984 + 50 *2050 +100 * 2380 + 100 * 2998 + 100 * 3350 + (so_chi_dien - 400) *3460\n",
        "    return tong * ( 1 + 0.08)\n",
        "\n",
        "print(\"Ho va ten: \", ho_va_ten)\n",
        "print(f\"Tien phai tra la: { tinh_tien_dien(so_chi_dien): .0f}\")"
      ],
      "metadata": {
        "id": "HnqtHxgiIYzT"
      },
      "execution_count": null,
      "outputs": []
    }
  ]
}